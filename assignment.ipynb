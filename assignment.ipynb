{
 "cells": [
  {
   "cell_type": "markdown",
   "id": "506b96c3",
   "metadata": {},
   "source": [
    "### Assignment 2"
   ]
  },
  {
   "cell_type": "markdown",
   "id": "e0db3640",
   "metadata": {},
   "source": [
    "Assignment Description Here"
   ]
  },
  {
   "cell_type": "markdown",
   "id": "a6a2b63e",
   "metadata": {},
   "source": []
  }
 ],
 "metadata": {
  "language_info": {
   "name": "python"
  }
 },
 "nbformat": 4,
 "nbformat_minor": 5
}
